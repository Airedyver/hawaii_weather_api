{
 "cells": [
  {
   "cell_type": "code",
   "execution_count": 1,
   "metadata": {
    "collapsed": true
   },
   "outputs": [],
   "source": [
    "import pandas as pd\n",
    "import sqlalchemy\n",
    "from sqlalchemy import Column,String, Integer,Float,Text,Date\n",
    "from sqlalchemy.ext.declarative import declarative_base\n",
    "from sqlalchemy.orm import Session\n",
    "from sqlalchemy import create_engine, MetaData\n",
    "\n",
    "# PyMySQL \n",
    "import pymysql\n",
    "pymysql.install_as_MySQLdb()"
   ]
  },
  {
   "cell_type": "code",
   "execution_count": 2,
   "metadata": {
    "collapsed": true
   },
   "outputs": [],
   "source": [
    "# Create engine using the `hawaii.sqlite` database file\n",
    "engine = create_engine(\"sqlite:///hawaii.sqlite\", echo=True)"
   ]
  },
  {
   "cell_type": "code",
   "execution_count": 3,
   "metadata": {
    "collapsed": true
   },
   "outputs": [],
   "source": [
    "# Declare a Base using `automap_base()`\n",
    "Base = declarative_base()"
   ]
  },
  {
   "cell_type": "code",
   "execution_count": 4,
   "metadata": {
    "collapsed": true
   },
   "outputs": [],
   "source": [
    "# Creates Classes which will serve as the anchor points for our Tables\n",
    "class Hawaii_measurements(Base):\n",
    "    __tablename__ = 'clean_hawaii_measurements'\n",
    "    id = Column(Integer, primary_key=True)\n",
    "    station = Column(String(255))\n",
    "    date = Column(String(255))\n",
    "    prcp = Column(Float)\n",
    "    tobs = Column(Integer)"
   ]
  },
  {
   "cell_type": "code",
   "execution_count": 5,
   "metadata": {
    "collapsed": true
   },
   "outputs": [],
   "source": [
    "# Creates Classes which will serve as the anchor points for our Tables\n",
    "class Hawaii_stations(Base):\n",
    "    __tablename__ = 'clean_hawaii_stations'\n",
    "    station_id = Column(Integer, primary_key=True)\n",
    "    station = Column(String(255))\n",
    "    name = Column(String(255))\n",
    "    latitude = Column(Integer)\n",
    "    longitude = Column(Integer)"
   ]
  },
  {
   "cell_type": "code",
   "execution_count": 6,
   "metadata": {
    "collapsed": true
   },
   "outputs": [],
   "source": [
    "measurement_df= pd.read_csv(\"clean_hawaii_measurements.csv\")     # reads cleaned csv data from step 1\n",
    "station_df= pd.read_csv(\"clean_hawaii_stations.csv\")"
   ]
  },
  {
   "cell_type": "code",
   "execution_count": 7,
   "metadata": {},
   "outputs": [
    {
     "name": "stdout",
     "output_type": "stream",
     "text": [
      "2018-02-01 19:00:38,149 INFO sqlalchemy.engine.base.Engine SELECT CAST('test plain returns' AS VARCHAR(60)) AS anon_1\n",
      "2018-02-01 19:00:38,157 INFO sqlalchemy.engine.base.Engine ()\n",
      "2018-02-01 19:00:38,160 INFO sqlalchemy.engine.base.Engine SELECT CAST('test unicode returns' AS VARCHAR(60)) AS anon_1\n",
      "2018-02-01 19:00:38,161 INFO sqlalchemy.engine.base.Engine ()\n",
      "2018-02-01 19:00:38,163 INFO sqlalchemy.engine.base.Engine PRAGMA table_info(\"clean_hawaii_measurements\")\n",
      "2018-02-01 19:00:38,164 INFO sqlalchemy.engine.base.Engine ()\n",
      "2018-02-01 19:00:38,167 INFO sqlalchemy.engine.base.Engine PRAGMA table_info(\"clean_hawaii_stations\")\n",
      "2018-02-01 19:00:38,168 INFO sqlalchemy.engine.base.Engine ()\n",
      "2018-02-01 19:00:38,170 INFO sqlalchemy.engine.base.Engine \n",
      "CREATE TABLE clean_hawaii_measurements (\n",
      "\tid INTEGER NOT NULL, \n",
      "\tstation VARCHAR(255), \n",
      "\tdate VARCHAR(255), \n",
      "\tprcp FLOAT, \n",
      "\ttobs INTEGER, \n",
      "\tPRIMARY KEY (id)\n",
      ")\n",
      "\n",
      "\n",
      "2018-02-01 19:00:38,171 INFO sqlalchemy.engine.base.Engine ()\n",
      "2018-02-01 19:00:38,188 INFO sqlalchemy.engine.base.Engine COMMIT\n",
      "2018-02-01 19:00:38,189 INFO sqlalchemy.engine.base.Engine \n",
      "CREATE TABLE clean_hawaii_stations (\n",
      "\tstation_id INTEGER NOT NULL, \n",
      "\tstation VARCHAR(255), \n",
      "\tname VARCHAR(255), \n",
      "\tlatitude INTEGER, \n",
      "\tlongitude INTEGER, \n",
      "\tPRIMARY KEY (station_id)\n",
      ")\n",
      "\n",
      "\n",
      "2018-02-01 19:00:38,190 INFO sqlalchemy.engine.base.Engine ()\n",
      "2018-02-01 19:00:38,201 INFO sqlalchemy.engine.base.Engine COMMIT\n",
      "2018-02-01 19:00:38,217 INFO sqlalchemy.engine.base.Engine SELECT name FROM sqlite_master WHERE type='table' ORDER BY name\n",
      "2018-02-01 19:00:38,219 INFO sqlalchemy.engine.base.Engine ()\n"
     ]
    },
    {
     "data": {
      "text/plain": [
       "['clean_hawaii_measurements', 'clean_hawaii_stations']"
      ]
     },
     "execution_count": 7,
     "metadata": {},
     "output_type": "execute_result"
    }
   ],
   "source": [
    "Base.metadata.create_all(engine)\n",
    "engine.table_names()"
   ]
  },
  {
   "cell_type": "code",
   "execution_count": 8,
   "metadata": {
    "collapsed": true,
    "scrolled": true
   },
   "outputs": [],
   "source": [
    "def populate_table (engine, table, csvfile):\n",
    "    # connect to the database (engine.connect())\n",
    "    conn = engine.connect()\n",
    "    # Load the CSV file into a pandas dataframe\n",
    "    data_to_load = pd.read_csv(csvfile)\n",
    "    \n",
    "    # Orient='records' creates a list of data to write\n",
    "    # http://pandas-docs.github.io/pandas-docs-travis/io.html#orient-options (converting to a dictionary)\n",
    "    listToWrite = data_to_load.to_dict(orient=\"records\")\n",
    "    conn.execute(table.delete())\n",
    "    # Insert the dataframe into the database in one bulk insert (use class table and .insert())\n",
    "    conn.execute(table.insert(),listToWrite)\n",
    "        \n",
    "   \n"
   ]
  },
  {
   "cell_type": "code",
   "execution_count": 9,
   "metadata": {},
   "outputs": [
    {
     "name": "stdout",
     "output_type": "stream",
     "text": [
      "2018-02-01 19:00:40,016 INFO sqlalchemy.engine.base.Engine DELETE FROM clean_hawaii_measurements\n",
      "2018-02-01 19:00:40,018 INFO sqlalchemy.engine.base.Engine ()\n",
      "2018-02-01 19:00:40,021 INFO sqlalchemy.engine.base.Engine COMMIT\n",
      "2018-02-01 19:00:40,091 INFO sqlalchemy.engine.base.Engine INSERT INTO clean_hawaii_measurements (station, date, prcp, tobs) VALUES (?, ?, ?, ?)\n",
      "2018-02-01 19:00:40,093 INFO sqlalchemy.engine.base.Engine (('USC00519397', '2010-01-01', 0.08, 65), ('USC00519397', '2010-01-02', 0.0, 63), ('USC00519397', '2010-01-03', 0.0, 74), ('USC00519397', '2010-01-04', 0.0, 76), ('USC00519397', '2010-01-07', 0.06, 70), ('USC00519397', '2010-01-08', 0.0, 64), ('USC00519397', '2010-01-09', 0.0, 68), ('USC00519397', '2010-01-10', 0.0, 73)  ... displaying 10 of 18103 total bound parameter sets ...  ('USC00516128', '2017-08-22', 0.5, 76), ('USC00516128', '2017-08-23', 0.45, 76))\n",
      "2018-02-01 19:00:40,130 INFO sqlalchemy.engine.base.Engine COMMIT\n",
      "2018-02-01 19:00:40,166 INFO sqlalchemy.engine.base.Engine DELETE FROM clean_hawaii_stations\n",
      "2018-02-01 19:00:40,167 INFO sqlalchemy.engine.base.Engine ()\n",
      "2018-02-01 19:00:40,169 INFO sqlalchemy.engine.base.Engine COMMIT\n",
      "2018-02-01 19:00:40,182 INFO sqlalchemy.engine.base.Engine INSERT INTO clean_hawaii_stations (station, name, latitude, longitude) VALUES (?, ?, ?, ?)\n",
      "2018-02-01 19:00:40,183 INFO sqlalchemy.engine.base.Engine (('USC00519397', 'WAIKIKI 717.2, HI US', 21.2716, -157.8168), ('USC00513117', 'KANEOHE 838.1, HI US', 21.4234, -157.8015), ('USC00514830', 'KUALOA RANCH HEADQUARTERS 886.9, HI US', 21.5213, -157.8374), ('USC00517948', 'PEARL CITY, HI US', 21.3934, -157.9751), ('USC00518838', 'UPPER WAHIAWA 874.3, HI US', 21.4992, -158.0111), ('USC00519523', 'WAIMANALO EXPERIMENTAL FARM, HI US', 21.33556, -157.71139), ('USC00519281', 'WAIHEE 837.5, HI US', 21.45167, -157.84888999999995), ('USC00511918', 'HONOLULU OBSERVATORY 702.2, HI US', 21.3152, -157.9992), ('USC00516128', 'MANOA LYON ARBO 785.2, HI US', 21.3331, -157.8025))\n",
      "2018-02-01 19:00:40,189 INFO sqlalchemy.engine.base.Engine COMMIT\n"
     ]
    }
   ],
   "source": [
    "populate_table(engine,Hawaii_measurements.__table__,\"clean_hawaii_measurements.csv\")\n",
    "populate_table(engine,Hawaii_stations.__table__,\"clean_hawaii_stations.csv\")"
   ]
  },
  {
   "cell_type": "code",
   "execution_count": 10,
   "metadata": {},
   "outputs": [
    {
     "data": {
      "text/plain": [
       "sqlalchemy.ext.declarative.api.DeclarativeMeta"
      ]
     },
     "execution_count": 10,
     "metadata": {},
     "output_type": "execute_result"
    }
   ],
   "source": [
    "type(Hawaii_measurements)"
   ]
  },
  {
   "cell_type": "code",
   "execution_count": 11,
   "metadata": {
    "collapsed": true
   },
   "outputs": [],
   "source": [
    "# writes data from dataframes to SQLite database\n",
    "#measurement_df.to_sql('measurement', engine, if_exists = \"append\", index=False)\n",
    "#station_df.to_sql('station', engine, if_exists = \"append\", index=False)"
   ]
  },
  {
   "cell_type": "code",
   "execution_count": null,
   "metadata": {
    "collapsed": true
   },
   "outputs": [],
   "source": []
  },
  {
   "cell_type": "code",
   "execution_count": null,
   "metadata": {
    "collapsed": true
   },
   "outputs": [],
   "source": []
  },
  {
   "cell_type": "code",
   "execution_count": null,
   "metadata": {
    "collapsed": true
   },
   "outputs": [],
   "source": []
  }
 ],
 "metadata": {
  "kernelspec": {
   "display_name": "Python [conda env:PythonData]",
   "language": "python",
   "name": "conda-env-PythonData-py"
  },
  "language_info": {
   "codemirror_mode": {
    "name": "ipython",
    "version": 3
   },
   "file_extension": ".py",
   "mimetype": "text/x-python",
   "name": "python",
   "nbconvert_exporter": "python",
   "pygments_lexer": "ipython3",
   "version": "3.6.3"
  }
 },
 "nbformat": 4,
 "nbformat_minor": 2
}
