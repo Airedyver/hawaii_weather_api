{
 "cells": [
  {
   "cell_type": "code",
   "execution_count": 151,
   "metadata": {
    "collapsed": true
   },
   "outputs": [],
   "source": [
    "# Python SQL toolkit and Object Relational Mapper\n",
    "import sqlalchemy\n",
    "from sqlalchemy.ext.automap import automap_base\n",
    "from sqlalchemy.orm import Session\n",
    "from sqlalchemy import create_engine, inspect, func, desc, MetaData, Table , distinct\n",
    "import datetime \n",
    "import pandas as pd\n",
    "import matplotlib.pyplot as plt\n",
    "import matplotlib.dates as mdates\n",
    "import seaborn as sns\n",
    "from sqlalchemy import *\n"
   ]
  },
  {
   "cell_type": "code",
   "execution_count": 152,
   "metadata": {
    "collapsed": true
   },
   "outputs": [],
   "source": [
    "#select trip dates, specifically because my birthday is in this range\n",
    "trip_start_date = '2018-02-05'                                               \n",
    "trip_end_date = '2018-02-20'"
   ]
  },
  {
   "cell_type": "code",
   "execution_count": 153,
   "metadata": {
    "collapsed": true
   },
   "outputs": [],
   "source": [
    "# Create engine using the `demographics.sqlite` database file\n",
    "engine = create_engine(\"sqlite:///hawaii.sqlite\")"
   ]
  },
  {
   "cell_type": "code",
   "execution_count": 154,
   "metadata": {
    "collapsed": true
   },
   "outputs": [],
   "source": [
    "# Create the inspector and connect it to the engine\n",
    "inspector = inspect(engine)"
   ]
  },
  {
   "cell_type": "code",
   "execution_count": 155,
   "metadata": {},
   "outputs": [
    {
     "data": {
      "text/plain": [
       "['clean_hawaii_measurements', 'clean_hawaii_stations']"
      ]
     },
     "execution_count": 155,
     "metadata": {},
     "output_type": "execute_result"
    }
   ],
   "source": [
    "# Collect the names of tables within the database\n",
    "inspector.get_table_names()"
   ]
  },
  {
   "cell_type": "code",
   "execution_count": 156,
   "metadata": {},
   "outputs": [],
   "source": [
    "meta = MetaData()\n",
    "meas_table = Table('clean_hawaii_measurements', meta)\n",
    "stats_table = Table('clean_hawaii_stations', meta)\n",
    "insp = inspector.from_engine(engine)\n",
    "insp.reflecttable(meas_table, None)\n",
    "insp.reflecttable(stats_table, None)\n"
   ]
  },
  {
   "cell_type": "code",
   "execution_count": 157,
   "metadata": {},
   "outputs": [
    {
     "name": "stdout",
     "output_type": "stream",
     "text": [
      "{'name': 'id', 'type': INTEGER(), 'nullable': False, 'default': None, 'autoincrement': 'auto', 'primary_key': 1}\n",
      "{'name': 'station', 'type': VARCHAR(length=255), 'nullable': True, 'default': None, 'autoincrement': 'auto', 'primary_key': 0}\n",
      "{'name': 'date', 'type': VARCHAR(length=255), 'nullable': True, 'default': None, 'autoincrement': 'auto', 'primary_key': 0}\n",
      "{'name': 'prcp', 'type': FLOAT(), 'nullable': True, 'default': None, 'autoincrement': 'auto', 'primary_key': 0}\n",
      "{'name': 'tobs', 'type': INTEGER(), 'nullable': True, 'default': None, 'autoincrement': 'auto', 'primary_key': 0}\n"
     ]
    }
   ],
   "source": [
    "columns = inspector.get_columns('clean_hawaii_measurements')\n",
    "for column in columns:\n",
    "    print(column)"
   ]
  },
  {
   "cell_type": "code",
   "execution_count": 158,
   "metadata": {},
   "outputs": [
    {
     "name": "stdout",
     "output_type": "stream",
     "text": [
      "{'name': 'station_id', 'type': INTEGER(), 'nullable': False, 'default': None, 'autoincrement': 'auto', 'primary_key': 1}\n",
      "{'name': 'station', 'type': VARCHAR(length=255), 'nullable': True, 'default': None, 'autoincrement': 'auto', 'primary_key': 0}\n",
      "{'name': 'name', 'type': VARCHAR(length=255), 'nullable': True, 'default': None, 'autoincrement': 'auto', 'primary_key': 0}\n",
      "{'name': 'latitude', 'type': INTEGER(), 'nullable': True, 'default': None, 'autoincrement': 'auto', 'primary_key': 0}\n",
      "{'name': 'longitude', 'type': INTEGER(), 'nullable': True, 'default': None, 'autoincrement': 'auto', 'primary_key': 0}\n"
     ]
    }
   ],
   "source": [
    "columns = inspector.get_columns('clean_hawaii_stations')\n",
    "for column in columns:\n",
    "    print(column)"
   ]
  },
  {
   "cell_type": "code",
   "execution_count": 159,
   "metadata": {
    "collapsed": true
   },
   "outputs": [],
   "source": [
    "# Declare a Base using `automap_base()`\n",
    "Base = automap_base()"
   ]
  },
  {
   "cell_type": "code",
   "execution_count": 160,
   "metadata": {
    "collapsed": true
   },
   "outputs": [],
   "source": [
    "# Use the Base class to reflect the database tables\n",
    "Base.prepare(engine, reflect=True)"
   ]
  },
  {
   "cell_type": "code",
   "execution_count": 161,
   "metadata": {},
   "outputs": [
    {
     "data": {
      "text/plain": [
       "['clean_hawaii_measurements', 'clean_hawaii_stations']"
      ]
     },
     "execution_count": 161,
     "metadata": {},
     "output_type": "execute_result"
    }
   ],
   "source": [
    "# Print all of the classes mapped to the Base\n",
    "Base.classes.keys()"
   ]
  },
  {
   "cell_type": "code",
   "execution_count": 162,
   "metadata": {
    "collapsed": true
   },
   "outputs": [],
   "source": [
    "conn = engine.connect()                                                     \n",
    "inspector = inspect(engine)      "
   ]
  },
  {
   "cell_type": "code",
   "execution_count": 163,
   "metadata": {
    "collapsed": true
   },
   "outputs": [],
   "source": [
    "# Assign the hawaii_measurement class to a variable called `Measurement`\n",
    "Measurement = Base.classes.clean_hawaii_measurements"
   ]
  },
  {
   "cell_type": "code",
   "execution_count": 164,
   "metadata": {
    "collapsed": true
   },
   "outputs": [],
   "source": [
    "# Assign the hawaii_station class to a variable called `Station`\n",
    "Station = Base.classes.clean_hawaii_stations"
   ]
  },
  {
   "cell_type": "code",
   "execution_count": 165,
   "metadata": {
    "collapsed": true
   },
   "outputs": [],
   "source": [
    "# Create a session\n",
    "session = Session(engine)"
   ]
  },
  {
   "cell_type": "code",
   "execution_count": 166,
   "metadata": {
    "collapsed": true
   },
   "outputs": [],
   "source": [
    "\n",
    "# queries the database for previous years precipitation data.\n",
    "prcp_anyl = session.query(Measurement.date, Measurement.prcp).filter(Measurement.date <='2017-08-23').filter(Measurement.date >='2016-08-24').all()"
   ]
  },
  {
   "cell_type": "code",
   "execution_count": 167,
   "metadata": {
    "collapsed": true
   },
   "outputs": [],
   "source": [
    "prcp_df = pd.DataFrame(prcp_anyl)"
   ]
  },
  {
   "cell_type": "code",
   "execution_count": 168,
   "metadata": {},
   "outputs": [],
   "source": [
    "prcp_df['date'] = pd.to_datetime(prcp_df['date'])"
   ]
  },
  {
   "cell_type": "code",
   "execution_count": 290,
   "metadata": {},
   "outputs": [
    {
     "data": {
      "text/plain": [
       "{Timestamp('2016-08-24 00:00:00'): 1.45,\n",
       " Timestamp('2016-08-25 00:00:00'): 0.11,\n",
       " Timestamp('2016-08-26 00:00:00'): 0.01,\n",
       " Timestamp('2016-08-27 00:00:00'): 0.12,\n",
       " Timestamp('2016-08-28 00:00:00'): 2.0699999999999998,\n",
       " Timestamp('2016-08-29 00:00:00'): 0.90000000000000002,\n",
       " Timestamp('2016-08-30 00:00:00'): 0.050000000000000003,\n",
       " Timestamp('2016-08-31 00:00:00'): 2.46,\n",
       " Timestamp('2016-09-01 00:00:00'): 0.01,\n",
       " Timestamp('2016-09-02 00:00:00'): 0.029999999999999999,\n",
       " Timestamp('2016-09-03 00:00:00'): 1.0,\n",
       " Timestamp('2016-09-04 00:00:00'): 0.44,\n",
       " Timestamp('2016-09-05 00:00:00'): 0.17999999999999999,\n",
       " Timestamp('2016-09-06 00:00:00'): 1.0,\n",
       " Timestamp('2016-09-07 00:00:00'): 1.3500000000000001,\n",
       " Timestamp('2016-09-08 00:00:00'): 0.14999999999999999,\n",
       " Timestamp('2016-09-09 00:00:00'): 0.34999999999999998,\n",
       " Timestamp('2016-09-10 00:00:00'): 1.1599999999999999,\n",
       " Timestamp('2016-09-11 00:00:00'): 0.59999999999999998,\n",
       " Timestamp('2016-09-12 00:00:00'): 1.04,\n",
       " Timestamp('2016-09-13 00:00:00'): 1.2,\n",
       " Timestamp('2016-09-14 00:00:00'): 6.7000000000000002,\n",
       " Timestamp('2016-09-15 00:00:00'): 3.3500000000000001,\n",
       " Timestamp('2016-09-16 00:00:00'): 0.60999999999999999,\n",
       " Timestamp('2016-09-17 00:00:00'): 0.23000000000000001,\n",
       " Timestamp('2016-09-18 00:00:00'): 0.41999999999999998,\n",
       " Timestamp('2016-09-19 00:00:00'): 0.25,\n",
       " Timestamp('2016-09-20 00:00:00'): 0.42999999999999999,\n",
       " Timestamp('2016-09-21 00:00:00'): 1.02,\n",
       " Timestamp('2016-09-22 00:00:00'): 0.75,\n",
       " Timestamp('2016-09-23 00:00:00'): 0.33000000000000002,\n",
       " Timestamp('2016-09-24 00:00:00'): 0.27000000000000002,\n",
       " Timestamp('2016-09-25 00:00:00'): 0.040000000000000001,\n",
       " Timestamp('2016-09-26 00:00:00'): 1.02,\n",
       " Timestamp('2016-09-27 00:00:00'): 1.0,\n",
       " Timestamp('2016-09-28 00:00:00'): 0.050000000000000003,\n",
       " Timestamp('2016-09-29 00:00:00'): 1.49,\n",
       " Timestamp('2016-09-30 00:00:00'): 0.38,\n",
       " Timestamp('2016-10-01 00:00:00'): 1.02,\n",
       " Timestamp('2016-10-02 00:00:00'): 0.60999999999999999,\n",
       " Timestamp('2016-10-03 00:00:00'): 0.46000000000000002,\n",
       " Timestamp('2016-10-04 00:00:00'): 3.46,\n",
       " Timestamp('2016-10-05 00:00:00'): 0.81000000000000005,\n",
       " Timestamp('2016-10-06 00:00:00'): 0.040000000000000001,\n",
       " Timestamp('2016-10-07 00:00:00'): 0.01,\n",
       " Timestamp('2016-10-08 00:00:00'): 0.040000000000000001,\n",
       " Timestamp('2016-10-09 00:00:00'): 0.0,\n",
       " Timestamp('2016-10-10 00:00:00'): 0.0,\n",
       " Timestamp('2016-10-11 00:00:00'): 0.34999999999999998,\n",
       " Timestamp('2016-10-12 00:00:00'): 0.02,\n",
       " Timestamp('2016-10-13 00:00:00'): 0.059999999999999998,\n",
       " Timestamp('2016-10-14 00:00:00'): 0.0,\n",
       " Timestamp('2016-10-15 00:00:00'): 0.33000000000000002,\n",
       " Timestamp('2016-10-16 00:00:00'): 0.0,\n",
       " Timestamp('2016-10-17 00:00:00'): 0.38,\n",
       " Timestamp('2016-10-18 00:00:00'): 0.47999999999999998,\n",
       " Timestamp('2016-10-19 00:00:00'): 0.0,\n",
       " Timestamp('2016-10-20 00:00:00'): 1.0,\n",
       " Timestamp('2016-10-21 00:00:00'): 0.089999999999999997,\n",
       " Timestamp('2016-10-22 00:00:00'): 1.3700000000000001,\n",
       " Timestamp('2016-10-23 00:00:00'): 0.23999999999999999,\n",
       " Timestamp('2016-10-24 00:00:00'): 0.69999999999999996,\n",
       " Timestamp('2016-10-25 00:00:00'): 0.40000000000000002,\n",
       " Timestamp('2016-10-26 00:00:00'): 0.0,\n",
       " Timestamp('2016-10-27 00:00:00'): 1.25,\n",
       " Timestamp('2016-10-28 00:00:00'): 0.37,\n",
       " Timestamp('2016-10-29 00:00:00'): 0.25,\n",
       " Timestamp('2016-10-30 00:00:00'): 0.94999999999999996,\n",
       " Timestamp('2016-10-31 00:00:00'): 1.3500000000000001,\n",
       " Timestamp('2016-11-01 00:00:00'): 0.089999999999999997,\n",
       " Timestamp('2016-11-02 00:00:00'): 0.040000000000000001,\n",
       " Timestamp('2016-11-03 00:00:00'): 0.02,\n",
       " Timestamp('2016-11-04 00:00:00'): 0.059999999999999998,\n",
       " Timestamp('2016-11-05 00:00:00'): 0.38,\n",
       " Timestamp('2016-11-06 00:00:00'): 0.050000000000000003,\n",
       " Timestamp('2016-11-07 00:00:00'): 0.050000000000000003,\n",
       " Timestamp('2016-11-08 00:00:00'): 0.53000000000000003,\n",
       " Timestamp('2016-11-09 00:00:00'): 0.040000000000000001,\n",
       " Timestamp('2016-11-10 00:00:00'): 0.01,\n",
       " Timestamp('2016-11-11 00:00:00'): 0.0,\n",
       " Timestamp('2016-11-12 00:00:00'): 0.0,\n",
       " Timestamp('2016-11-13 00:00:00'): 0.0,\n",
       " Timestamp('2016-11-14 00:00:00'): 0.02,\n",
       " Timestamp('2016-11-15 00:00:00'): 0.050000000000000003,\n",
       " Timestamp('2016-11-16 00:00:00'): 0.91000000000000003,\n",
       " Timestamp('2016-11-17 00:00:00'): 0.02,\n",
       " Timestamp('2016-11-18 00:00:00'): 0.0,\n",
       " Timestamp('2016-11-19 00:00:00'): 0.11,\n",
       " Timestamp('2016-11-20 00:00:00'): 0.39000000000000001,\n",
       " Timestamp('2016-11-21 00:00:00'): 2.8700000000000001,\n",
       " Timestamp('2016-11-22 00:00:00'): 2.1099999999999999,\n",
       " Timestamp('2016-11-23 00:00:00'): 0.22,\n",
       " Timestamp('2016-11-24 00:00:00'): 0.71999999999999997,\n",
       " Timestamp('2016-11-25 00:00:00'): 1.03,\n",
       " Timestamp('2016-11-26 00:00:00'): 0.29999999999999999,\n",
       " Timestamp('2016-11-27 00:00:00'): 0.28999999999999998,\n",
       " Timestamp('2016-11-28 00:00:00'): 0.68999999999999995,\n",
       " Timestamp('2016-11-29 00:00:00'): 0.20000000000000001,\n",
       " Timestamp('2016-11-30 00:00:00'): 0.79000000000000004,\n",
       " Timestamp('2016-12-01 00:00:00'): 0.71999999999999997,\n",
       " Timestamp('2016-12-02 00:00:00'): 1.27,\n",
       " Timestamp('2016-12-03 00:00:00'): 1.6200000000000001,\n",
       " Timestamp('2016-12-04 00:00:00'): 0.31,\n",
       " Timestamp('2016-12-05 00:00:00'): 1.6000000000000001,\n",
       " Timestamp('2016-12-06 00:00:00'): 0.0,\n",
       " Timestamp('2016-12-07 00:00:00'): 0.02,\n",
       " Timestamp('2016-12-08 00:00:00'): 0.029999999999999999,\n",
       " Timestamp('2016-12-09 00:00:00'): 0.41999999999999998,\n",
       " Timestamp('2016-12-10 00:00:00'): 0.040000000000000001,\n",
       " Timestamp('2016-12-11 00:00:00'): 0.13,\n",
       " Timestamp('2016-12-12 00:00:00'): 0.01,\n",
       " Timestamp('2016-12-13 00:00:00'): 0.089999999999999997,\n",
       " Timestamp('2016-12-14 00:00:00'): 0.33000000000000002,\n",
       " Timestamp('2016-12-15 00:00:00'): 0.029999999999999999,\n",
       " Timestamp('2016-12-16 00:00:00'): 0.0,\n",
       " Timestamp('2016-12-17 00:00:00'): 0.070000000000000007,\n",
       " Timestamp('2016-12-18 00:00:00'): 0.16,\n",
       " Timestamp('2016-12-19 00:00:00'): 0.14999999999999999,\n",
       " Timestamp('2016-12-20 00:00:00'): 0.0,\n",
       " Timestamp('2016-12-21 00:00:00'): 0.55000000000000004,\n",
       " Timestamp('2016-12-22 00:00:00'): 1.24,\n",
       " Timestamp('2016-12-23 00:00:00'): 0.82999999999999996,\n",
       " Timestamp('2016-12-24 00:00:00'): 1.0800000000000001,\n",
       " Timestamp('2016-12-25 00:00:00'): 0.38,\n",
       " Timestamp('2016-12-26 00:00:00'): 1.48,\n",
       " Timestamp('2016-12-27 00:00:00'): 0.14000000000000001,\n",
       " Timestamp('2016-12-28 00:00:00'): 0.14000000000000001,\n",
       " Timestamp('2016-12-29 00:00:00'): 1.03,\n",
       " Timestamp('2016-12-30 00:00:00'): 2.3700000000000001,\n",
       " Timestamp('2016-12-31 00:00:00'): 0.90000000000000002,\n",
       " Timestamp('2017-01-01 00:00:00'): 0.029999999999999999,\n",
       " Timestamp('2017-01-02 00:00:00'): 0.0,\n",
       " Timestamp('2017-01-03 00:00:00'): 0.0,\n",
       " Timestamp('2017-01-04 00:00:00'): 0.0,\n",
       " Timestamp('2017-01-05 00:00:00'): 0.46999999999999997,\n",
       " Timestamp('2017-01-06 00:00:00'): 0.10000000000000001,\n",
       " Timestamp('2017-01-07 00:00:00'): 0.0,\n",
       " Timestamp('2017-01-08 00:00:00'): 0.029999999999999999,\n",
       " Timestamp('2017-01-09 00:00:00'): 0.0,\n",
       " Timestamp('2017-01-10 00:00:00'): 0.0,\n",
       " Timestamp('2017-01-11 00:00:00'): 0.0,\n",
       " Timestamp('2017-01-12 00:00:00'): 0.0,\n",
       " Timestamp('2017-01-13 00:00:00'): 0.0,\n",
       " Timestamp('2017-01-14 00:00:00'): 0.0,\n",
       " Timestamp('2017-01-15 00:00:00'): 0.01,\n",
       " Timestamp('2017-01-16 00:00:00'): 0.0,\n",
       " Timestamp('2017-01-17 00:00:00'): 0.0,\n",
       " Timestamp('2017-01-18 00:00:00'): 0.070000000000000007,\n",
       " Timestamp('2017-01-19 00:00:00'): 0.0,\n",
       " Timestamp('2017-01-20 00:00:00'): 0.0,\n",
       " Timestamp('2017-01-21 00:00:00'): 0.080000000000000002,\n",
       " Timestamp('2017-01-22 00:00:00'): 0.71999999999999997,\n",
       " Timestamp('2017-01-23 00:00:00'): 0.84999999999999998,\n",
       " Timestamp('2017-01-24 00:00:00'): 1.8500000000000001,\n",
       " Timestamp('2017-01-25 00:00:00'): 2.6400000000000001,\n",
       " Timestamp('2017-01-26 00:00:00'): 0.10000000000000001,\n",
       " Timestamp('2017-01-27 00:00:00'): 0.029999999999999999,\n",
       " Timestamp('2017-01-28 00:00:00'): 0.0,\n",
       " Timestamp('2017-01-29 00:00:00'): 0.55000000000000004,\n",
       " Timestamp('2017-01-30 00:00:00'): 0.0,\n",
       " Timestamp('2017-01-31 00:00:00'): 0.0,\n",
       " Timestamp('2017-02-01 00:00:00'): 0.0,\n",
       " Timestamp('2017-02-02 00:00:00'): 0.0,\n",
       " Timestamp('2017-02-03 00:00:00'): 0.0,\n",
       " Timestamp('2017-02-04 00:00:00'): 0.0,\n",
       " Timestamp('2017-02-05 00:00:00'): 0.0,\n",
       " Timestamp('2017-02-06 00:00:00'): 0.0,\n",
       " Timestamp('2017-02-07 00:00:00'): 1.79,\n",
       " Timestamp('2017-02-08 00:00:00'): 0.0,\n",
       " Timestamp('2017-02-09 00:00:00'): 0.0,\n",
       " Timestamp('2017-02-10 00:00:00'): 0.0,\n",
       " Timestamp('2017-02-11 00:00:00'): 0.72999999999999998,\n",
       " Timestamp('2017-02-12 00:00:00'): 1.8300000000000001,\n",
       " Timestamp('2017-02-13 00:00:00'): 0.0,\n",
       " Timestamp('2017-02-14 00:00:00'): 0.01,\n",
       " Timestamp('2017-02-15 00:00:00'): 0.070000000000000007,\n",
       " Timestamp('2017-02-16 00:00:00'): 0.13,\n",
       " Timestamp('2017-02-17 00:00:00'): 0.13,\n",
       " Timestamp('2017-02-18 00:00:00'): 0.0,\n",
       " Timestamp('2017-02-19 00:00:00'): 0.10000000000000001,\n",
       " Timestamp('2017-02-20 00:00:00'): 0.0,\n",
       " Timestamp('2017-02-21 00:00:00'): 0.070000000000000007,\n",
       " Timestamp('2017-02-22 00:00:00'): 0.32000000000000001,\n",
       " Timestamp('2017-02-23 00:00:00'): 0.0,\n",
       " Timestamp('2017-02-24 00:00:00'): 0.0,\n",
       " Timestamp('2017-02-25 00:00:00'): 0.12,\n",
       " Timestamp('2017-02-26 00:00:00'): 0.0,\n",
       " Timestamp('2017-02-27 00:00:00'): 0.0,\n",
       " Timestamp('2017-02-28 00:00:00'): 0.57999999999999996,\n",
       " Timestamp('2017-03-01 00:00:00'): 2.0,\n",
       " Timestamp('2017-03-02 00:00:00'): 0.57999999999999996,\n",
       " Timestamp('2017-03-03 00:00:00'): 0.56000000000000005,\n",
       " Timestamp('2017-03-04 00:00:00'): 0.0,\n",
       " Timestamp('2017-03-05 00:00:00'): 0.34999999999999998,\n",
       " Timestamp('2017-03-06 00:00:00'): 0.0,\n",
       " Timestamp('2017-03-07 00:00:00'): 0.0,\n",
       " Timestamp('2017-03-08 00:00:00'): 0.0,\n",
       " Timestamp('2017-03-09 00:00:00'): 0.01,\n",
       " Timestamp('2017-03-10 00:00:00'): 0.0,\n",
       " Timestamp('2017-03-11 00:00:00'): 0.0,\n",
       " Timestamp('2017-03-12 00:00:00'): 0.0,\n",
       " Timestamp('2017-03-13 00:00:00'): 0.0,\n",
       " Timestamp('2017-03-14 00:00:00'): 0.0,\n",
       " Timestamp('2017-03-15 00:00:00'): 0.0,\n",
       " Timestamp('2017-03-16 00:00:00'): 0.0,\n",
       " Timestamp('2017-03-17 00:00:00'): 0.12,\n",
       " Timestamp('2017-03-18 00:00:00'): 0.0,\n",
       " Timestamp('2017-03-19 00:00:00'): 0.0,\n",
       " Timestamp('2017-03-20 00:00:00'): 0.0,\n",
       " Timestamp('2017-03-21 00:00:00'): 0.0,\n",
       " Timestamp('2017-03-22 00:00:00'): 0.0,\n",
       " Timestamp('2017-03-23 00:00:00'): 0.029999999999999999,\n",
       " Timestamp('2017-03-24 00:00:00'): 0.17000000000000001,\n",
       " Timestamp('2017-03-25 00:00:00'): 0.47999999999999998,\n",
       " Timestamp('2017-03-26 00:00:00'): 0.0,\n",
       " Timestamp('2017-03-27 00:00:00'): 0.0,\n",
       " Timestamp('2017-03-28 00:00:00'): 0.68000000000000005,\n",
       " Timestamp('2017-03-29 00:00:00'): 0.070000000000000007,\n",
       " Timestamp('2017-03-30 00:00:00'): 0.040000000000000001,\n",
       " Timestamp('2017-03-31 00:00:00'): 0.01,\n",
       " Timestamp('2017-04-01 00:00:00'): 0.20000000000000001,\n",
       " Timestamp('2017-04-02 00:00:00'): 0.0,\n",
       " Timestamp('2017-04-03 00:00:00'): 0.23000000000000001,\n",
       " Timestamp('2017-04-04 00:00:00'): 0.02,\n",
       " Timestamp('2017-04-05 00:00:00'): 0.45000000000000001,\n",
       " Timestamp('2017-04-06 00:00:00'): 0.0,\n",
       " Timestamp('2017-04-07 00:00:00'): 0.0,\n",
       " Timestamp('2017-04-08 00:00:00'): 0.0,\n",
       " Timestamp('2017-04-09 00:00:00'): 0.0,\n",
       " Timestamp('2017-04-10 00:00:00'): 0.0,\n",
       " Timestamp('2017-04-11 00:00:00'): 0.25,\n",
       " Timestamp('2017-04-12 00:00:00'): 0.65000000000000002,\n",
       " Timestamp('2017-04-13 00:00:00'): 0.23000000000000001,\n",
       " Timestamp('2017-04-14 00:00:00'): 2.8199999999999998,\n",
       " Timestamp('2017-04-15 00:00:00'): 0.90000000000000002,\n",
       " Timestamp('2017-04-16 00:00:00'): 0.11,\n",
       " Timestamp('2017-04-17 00:00:00'): 1.3,\n",
       " Timestamp('2017-04-18 00:00:00'): 0.97999999999999998,\n",
       " Timestamp('2017-04-19 00:00:00'): 0.14000000000000001,\n",
       " Timestamp('2017-04-20 00:00:00'): 0.0,\n",
       " Timestamp('2017-04-21 00:00:00'): 1.8400000000000001,\n",
       " Timestamp('2017-04-22 00:00:00'): 1.3500000000000001,\n",
       " Timestamp('2017-04-23 00:00:00'): 0.34999999999999998,\n",
       " Timestamp('2017-04-24 00:00:00'): 0.050000000000000003,\n",
       " Timestamp('2017-04-25 00:00:00'): 0.0,\n",
       " Timestamp('2017-04-26 00:00:00'): 0.22,\n",
       " Timestamp('2017-04-27 00:00:00'): 0.11,\n",
       " Timestamp('2017-04-28 00:00:00'): 0.79000000000000004,\n",
       " Timestamp('2017-04-29 00:00:00'): 0.0,\n",
       " Timestamp('2017-04-30 00:00:00'): 0.80000000000000004,\n",
       " Timestamp('2017-05-01 00:00:00'): 0.25,\n",
       " Timestamp('2017-05-02 00:00:00'): 0.0,\n",
       " Timestamp('2017-05-03 00:00:00'): 0.01,\n",
       " Timestamp('2017-05-04 00:00:00'): 0.0,\n",
       " Timestamp('2017-05-05 00:00:00'): 0.10000000000000001,\n",
       " Timestamp('2017-05-06 00:00:00'): 0.0,\n",
       " Timestamp('2017-05-07 00:00:00'): 0.029999999999999999,\n",
       " Timestamp('2017-05-08 00:00:00'): 1.1100000000000001,\n",
       " Timestamp('2017-05-09 00:00:00'): 0.23000000000000001,\n",
       " Timestamp('2017-05-10 00:00:00'): 0.55000000000000004,\n",
       " Timestamp('2017-05-11 00:00:00'): 0.44,\n",
       " Timestamp('2017-05-12 00:00:00'): 0.10000000000000001,\n",
       " Timestamp('2017-05-13 00:00:00'): 0.10000000000000001,\n",
       " Timestamp('2017-05-14 00:00:00'): 1.0,\n",
       " Timestamp('2017-05-15 00:00:00'): 0.59999999999999998,\n",
       " Timestamp('2017-05-16 00:00:00'): 0.29999999999999999,\n",
       " Timestamp('2017-05-17 00:00:00'): 0.059999999999999998,\n",
       " Timestamp('2017-05-18 00:00:00'): 0.0,\n",
       " Timestamp('2017-05-19 00:00:00'): 0.01,\n",
       " Timestamp('2017-05-20 00:00:00'): 0.02,\n",
       " Timestamp('2017-05-21 00:00:00'): 0.0,\n",
       " Timestamp('2017-05-22 00:00:00'): 0.29999999999999999,\n",
       " Timestamp('2017-05-23 00:00:00'): 0.44,\n",
       " Timestamp('2017-05-24 00:00:00'): 2.1699999999999999,\n",
       " Timestamp('2017-05-25 00:00:00'): 0.88,\n",
       " Timestamp('2017-05-26 00:00:00'): 0.0,\n",
       " Timestamp('2017-05-27 00:00:00'): 0.5,\n",
       " Timestamp('2017-05-28 00:00:00'): 0.0,\n",
       " Timestamp('2017-05-29 00:00:00'): 0.40000000000000002,\n",
       " Timestamp('2017-05-30 00:00:00'): 1.1200000000000001,\n",
       " Timestamp('2017-05-31 00:00:00'): 0.25,\n",
       " Timestamp('2017-06-01 00:00:00'): 0.01,\n",
       " Timestamp('2017-06-02 00:00:00'): 0.089999999999999997,\n",
       " Timestamp('2017-06-03 00:00:00'): 0.080000000000000002,\n",
       " Timestamp('2017-06-04 00:00:00'): 0.81999999999999995,\n",
       " Timestamp('2017-06-05 00:00:00'): 0.01,\n",
       " Timestamp('2017-06-06 00:00:00'): 0.0,\n",
       " Timestamp('2017-06-07 00:00:00'): 0.01,\n",
       " Timestamp('2017-06-08 00:00:00'): 0.0,\n",
       " Timestamp('2017-06-09 00:00:00'): 0.02,\n",
       " Timestamp('2017-06-10 00:00:00'): 0.62,\n",
       " Timestamp('2017-06-11 00:00:00'): 0.69999999999999996,\n",
       " Timestamp('2017-06-12 00:00:00'): 0.81000000000000005,\n",
       " Timestamp('2017-06-13 00:00:00'): 0.65000000000000002,\n",
       " Timestamp('2017-06-14 00:00:00'): 0.81000000000000005,\n",
       " Timestamp('2017-06-15 00:00:00'): 1.6899999999999999,\n",
       " Timestamp('2017-06-16 00:00:00'): 0.10000000000000001,\n",
       " Timestamp('2017-06-17 00:00:00'): 0.10000000000000001,\n",
       " Timestamp('2017-06-18 00:00:00'): 0.69999999999999996,\n",
       " Timestamp('2017-06-19 00:00:00'): 0.40000000000000002,\n",
       " Timestamp('2017-06-20 00:00:00'): 0.31,\n",
       " Timestamp('2017-06-21 00:00:00'): 0.29999999999999999,\n",
       " Timestamp('2017-06-22 00:00:00'): 0.28000000000000003,\n",
       " Timestamp('2017-06-23 00:00:00'): 0.5,\n",
       " Timestamp('2017-06-24 00:00:00'): 0.22,\n",
       " Timestamp('2017-06-25 00:00:00'): 0.5,\n",
       " Timestamp('2017-06-26 00:00:00'): 0.02,\n",
       " Timestamp('2017-06-27 00:00:00'): 0.10000000000000001,\n",
       " Timestamp('2017-06-28 00:00:00'): 0.02,\n",
       " Timestamp('2017-06-29 00:00:00'): 0.040000000000000001,\n",
       " Timestamp('2017-06-30 00:00:00'): 0.20000000000000001,\n",
       " Timestamp('2017-07-01 00:00:00'): 0.10000000000000001,\n",
       " Timestamp('2017-07-02 00:00:00'): 0.5,\n",
       " Timestamp('2017-07-03 00:00:00'): 0.40000000000000002,\n",
       " Timestamp('2017-07-04 00:00:00'): 0.0,\n",
       " Timestamp('2017-07-05 00:00:00'): 0.0,\n",
       " Timestamp('2017-07-06 00:00:00'): 0.02,\n",
       " Timestamp('2017-07-07 00:00:00'): 0.29999999999999999,\n",
       " Timestamp('2017-07-08 00:00:00'): 0.02,\n",
       " Timestamp('2017-07-09 00:00:00'): 0.0,\n",
       " Timestamp('2017-07-10 00:00:00'): 0.02,\n",
       " Timestamp('2017-07-11 00:00:00'): 0.0,\n",
       " Timestamp('2017-07-12 00:00:00'): 0.050000000000000003,\n",
       " Timestamp('2017-07-13 00:00:00'): 0.68000000000000005,\n",
       " Timestamp('2017-07-14 00:00:00'): 0.68000000000000005,\n",
       " Timestamp('2017-07-15 00:00:00'): 0.10000000000000001,\n",
       " Timestamp('2017-07-16 00:00:00'): 0.5,\n",
       " Timestamp('2017-07-17 00:00:00'): 0.39000000000000001,\n",
       " Timestamp('2017-07-18 00:00:00'): 2.3999999999999999,\n",
       " Timestamp('2017-07-19 00:00:00'): 0.27000000000000002,\n",
       " Timestamp('2017-07-20 00:00:00'): 0.69999999999999996,\n",
       " Timestamp('2017-07-21 00:00:00'): 0.10000000000000001,\n",
       " Timestamp('2017-07-22 00:00:00'): 4.0,\n",
       " Timestamp('2017-07-23 00:00:00'): 0.80000000000000004,\n",
       " Timestamp('2017-07-24 00:00:00'): 0.83999999999999997,\n",
       " Timestamp('2017-07-25 00:00:00'): 0.29999999999999999,\n",
       " Timestamp('2017-07-26 00:00:00'): 0.29999999999999999,\n",
       " Timestamp('2017-07-27 00:00:00'): 0.0,\n",
       " Timestamp('2017-07-28 00:00:00'): 0.40000000000000002,\n",
       " Timestamp('2017-07-29 00:00:00'): 0.29999999999999999,\n",
       " Timestamp('2017-07-30 00:00:00'): 0.29999999999999999,\n",
       " Timestamp('2017-07-31 00:00:00'): 0.0,\n",
       " Timestamp('2017-08-01 00:00:00'): 0.0,\n",
       " Timestamp('2017-08-02 00:00:00'): 0.25,\n",
       " Timestamp('2017-08-03 00:00:00'): 0.059999999999999998,\n",
       " Timestamp('2017-08-04 00:00:00'): 0.0,\n",
       " Timestamp('2017-08-05 00:00:00'): 0.059999999999999998,\n",
       " Timestamp('2017-08-06 00:00:00'): 0.0,\n",
       " Timestamp('2017-08-07 00:00:00'): 0.050000000000000003,\n",
       " Timestamp('2017-08-08 00:00:00'): 0.34000000000000002,\n",
       " Timestamp('2017-08-09 00:00:00'): 0.14999999999999999,\n",
       " Timestamp('2017-08-10 00:00:00'): 0.070000000000000007,\n",
       " Timestamp('2017-08-11 00:00:00'): 0.0,\n",
       " Timestamp('2017-08-12 00:00:00'): 0.14000000000000001,\n",
       " Timestamp('2017-08-13 00:00:00'): 0.0,\n",
       " Timestamp('2017-08-14 00:00:00'): 0.22,\n",
       " Timestamp('2017-08-15 00:00:00'): 0.41999999999999998,\n",
       " Timestamp('2017-08-16 00:00:00'): 0.41999999999999998,\n",
       " Timestamp('2017-08-17 00:00:00'): 0.13,\n",
       " Timestamp('2017-08-18 00:00:00'): 0.059999999999999998,\n",
       " Timestamp('2017-08-19 00:00:00'): 0.089999999999999997,\n",
       " Timestamp('2017-08-20 00:00:00'): 0.01,\n",
       " Timestamp('2017-08-21 00:00:00'): 0.56000000000000005,\n",
       " Timestamp('2017-08-22 00:00:00'): 0.5,\n",
       " Timestamp('2017-08-23 00:00:00'): 0.45000000000000001}"
      ]
     },
     "execution_count": 290,
     "metadata": {},
     "output_type": "execute_result"
    }
   ],
   "source": [
    "prcp_date = prcp_df.set_index('date')\n",
    "prcp_date.to_dict()['prcp']"
   ]
  },
  {
   "cell_type": "code",
   "execution_count": 170,
   "metadata": {
    "scrolled": false
   },
   "outputs": [
    {
     "data": {
      "image/png": "[encoded data removed]",
      "text/plain": [
       "<matplotlib.figure.Figure at 0x214e7bd8f60>"
      ]
     },
     "metadata": {},
     "output_type": "display_data"
    }
   ],
   "source": [
    "sns.set()\n",
    "prcp_plot = prcp_date.plot(kind='line',sort_columns = True,use_index = True, figsize=(12,12))\n",
    "prcp_plot.set_xlabel(\"Date\")\n",
    "prcp_plot.set_ylabel(\"Precipitation\")\n",
    "\n",
    "\n",
    "plt.show()"
   ]
  },
  {
   "cell_type": "code",
   "execution_count": 171,
   "metadata": {},
   "outputs": [
    {
     "data": {
      "text/html": [
       "<div>\n",
       "<style>\n",
       "    .dataframe thead tr:only-child th {\n",
       "        text-align: right;\n",
       "    }\n",
       "\n",
       "    .dataframe thead th {\n",
       "        text-align: left;\n",
       "    }\n",
       "\n",
       "    .dataframe tbody tr th {\n",
       "        vertical-align: top;\n",
       "    }\n",
       "</style>\n",
       "<table border=\"1\" class=\"dataframe\">\n",
       "  <thead>\n",
       "    <tr style=\"text-align: right;\">\n",
       "      <th></th>\n",
       "      <th>prcp</th>\n",
       "    </tr>\n",
       "  </thead>\n",
       "  <tbody>\n",
       "    <tr>\n",
       "      <th>count</th>\n",
       "      <td>2015.000000</td>\n",
       "    </tr>\n",
       "    <tr>\n",
       "      <th>mean</th>\n",
       "      <td>0.176462</td>\n",
       "    </tr>\n",
       "    <tr>\n",
       "      <th>std</th>\n",
       "      <td>0.460288</td>\n",
       "    </tr>\n",
       "    <tr>\n",
       "      <th>min</th>\n",
       "      <td>0.000000</td>\n",
       "    </tr>\n",
       "    <tr>\n",
       "      <th>25%</th>\n",
       "      <td>0.000000</td>\n",
       "    </tr>\n",
       "    <tr>\n",
       "      <th>50%</th>\n",
       "      <td>0.020000</td>\n",
       "    </tr>\n",
       "    <tr>\n",
       "      <th>75%</th>\n",
       "      <td>0.130000</td>\n",
       "    </tr>\n",
       "    <tr>\n",
       "      <th>max</th>\n",
       "      <td>6.700000</td>\n",
       "    </tr>\n",
       "  </tbody>\n",
       "</table>\n",
       "</div>"
      ],
      "text/plain": [
       "              prcp\n",
       "count  2015.000000\n",
       "mean      0.176462\n",
       "std       0.460288\n",
       "min       0.000000\n",
       "25%       0.000000\n",
       "50%       0.020000\n",
       "75%       0.130000\n",
       "max       6.700000"
      ]
     },
     "execution_count": 171,
     "metadata": {},
     "output_type": "execute_result"
    }
   ],
   "source": [
    "prcp_date.describe()"
   ]
  },
  {
   "cell_type": "code",
   "execution_count": 172,
   "metadata": {},
   "outputs": [
    {
     "name": "stdout",
     "output_type": "stream",
     "text": [
      "9\n"
     ]
    }
   ],
   "source": [
    " #Design a query to calculate the total number of stations.\n",
    "\n",
    "station_num = session.query(Station.station_id).count()\n",
    "print(station_num)"
   ]
  },
  {
   "cell_type": "code",
   "execution_count": 295,
   "metadata": {},
   "outputs": [
    {
     "data": {
      "text/plain": [
       "sqlalchemy.sql.schema.Table"
      ]
     },
     "execution_count": 295,
     "metadata": {},
     "output_type": "execute_result"
    }
   ],
   "source": [
    "type(stats_table)"
   ]
  },
  {
   "cell_type": "code",
   "execution_count": 174,
   "metadata": {},
   "outputs": [
    {
     "name": "stdout",
     "output_type": "stream",
     "text": [
      "(15619, 'USC00511918', '2015-10-30', 0.0, 64)\n",
      "(5381, 'USC00513117', '2017-07-31', 0.0, 77)\n",
      "(7318, 'USC00514830', '2017-08-23', 0.0, 82)\n",
      "(18103, 'USC00516128', '2017-08-23', 0.45, 76)\n",
      "(8001, 'USC00517948', '2017-07-28', 0.01, 80)\n",
      "(8343, 'USC00518838', '2015-10-20', 0.0, 74)\n",
      "(13687, 'USC00519281', '2017-08-18', 0.06, 79)\n",
      "(2685, 'USC00519397', '2017-08-23', 0.0, 81)\n",
      "(10915, 'USC00519523', '2017-08-23', 0.08, 82)\n"
     ]
    }
   ],
   "source": [
    "#Design a query to find the most active stations.\n",
    "j = meas_table.join(stats_table,\n",
    "                meas_table.c.station == stats_table.c.station)\n",
    "k = select([meas_table]).select_from(j).group_by(meas_table.c.station).order_by()\n",
    "\n",
    "stmt = session.query(k)\n",
    "for row in stmt:\n",
    "    print(row)"
   ]
  },
  {
   "cell_type": "code",
   "execution_count": 296,
   "metadata": {},
   "outputs": [
    {
     "data": {
      "text/html": [
       "<div>\n",
       "<style>\n",
       "    .dataframe thead tr:only-child th {\n",
       "        text-align: right;\n",
       "    }\n",
       "\n",
       "    .dataframe thead th {\n",
       "        text-align: left;\n",
       "    }\n",
       "\n",
       "    .dataframe tbody tr th {\n",
       "        vertical-align: top;\n",
       "    }\n",
       "</style>\n",
       "<table border=\"1\" class=\"dataframe\">\n",
       "  <thead>\n",
       "    <tr style=\"text-align: right;\">\n",
       "      <th></th>\n",
       "      <th>name</th>\n",
       "      <th>total_measurements</th>\n",
       "    </tr>\n",
       "  </thead>\n",
       "  <tbody>\n",
       "    <tr>\n",
       "      <th>0</th>\n",
       "      <td>WAIHEE 837.5, HI US</td>\n",
       "      <td>2772</td>\n",
       "    </tr>\n",
       "    <tr>\n",
       "      <th>1</th>\n",
       "      <td>KANEOHE 838.1, HI US</td>\n",
       "      <td>2696</td>\n",
       "    </tr>\n",
       "    <tr>\n",
       "      <th>2</th>\n",
       "      <td>WAIKIKI 717.2, HI US</td>\n",
       "      <td>2685</td>\n",
       "    </tr>\n",
       "    <tr>\n",
       "      <th>3</th>\n",
       "      <td>WAIMANALO EXPERIMENTAL FARM, HI US</td>\n",
       "      <td>2572</td>\n",
       "    </tr>\n",
       "    <tr>\n",
       "      <th>4</th>\n",
       "      <td>MANOA LYON ARBO 785.2, HI US</td>\n",
       "      <td>2484</td>\n",
       "    </tr>\n",
       "    <tr>\n",
       "      <th>5</th>\n",
       "      <td>KUALOA RANCH HEADQUARTERS 886.9, HI US</td>\n",
       "      <td>1937</td>\n",
       "    </tr>\n",
       "    <tr>\n",
       "      <th>6</th>\n",
       "      <td>HONOLULU OBSERVATORY 702.2, HI US</td>\n",
       "      <td>1932</td>\n",
       "    </tr>\n",
       "    <tr>\n",
       "      <th>7</th>\n",
       "      <td>PEARL CITY, HI US</td>\n",
       "      <td>683</td>\n",
       "    </tr>\n",
       "    <tr>\n",
       "      <th>8</th>\n",
       "      <td>UPPER WAHIAWA 874.3, HI US</td>\n",
       "      <td>342</td>\n",
       "    </tr>\n",
       "  </tbody>\n",
       "</table>\n",
       "</div>"
      ],
      "text/plain": [
       "                                     name  total_measurements\n",
       "0                     WAIHEE 837.5, HI US                2772\n",
       "1                    KANEOHE 838.1, HI US                2696\n",
       "2                    WAIKIKI 717.2, HI US                2685\n",
       "3      WAIMANALO EXPERIMENTAL FARM, HI US                2572\n",
       "4            MANOA LYON ARBO 785.2, HI US                2484\n",
       "5  KUALOA RANCH HEADQUARTERS 886.9, HI US                1937\n",
       "6       HONOLULU OBSERVATORY 702.2, HI US                1932\n",
       "7                       PEARL CITY, HI US                 683\n",
       "8              UPPER WAHIAWA 874.3, HI US                 342"
      ]
     },
     "execution_count": 296,
     "metadata": {},
     "output_type": "execute_result"
    }
   ],
   "source": [
    "stmt = session.execute(\"SELECT clean_hawaii_stations.name, COUNT(clean_hawaii_measurements.station) AS total_measurements FROM \\\n",
    "clean_hawaii_measurements INNER JOIN clean_hawaii_stations ON clean_hawaii_measurements.station = clean_hawaii_stations.station \\\n",
    "GROUP BY clean_hawaii_measurements.station ORDER BY total_measurements DESC\")\n",
    "\n",
    "tobs_df = pd.DataFrame(stmt.fetchall())\n",
    "tobs_df.columns = stmt.keys()\n",
    "tobs_df"
   ]
  },
  {
   "cell_type": "code",
   "execution_count": 189,
   "metadata": {},
   "outputs": [
    {
     "data": {
      "text/plain": [
       "name                  WAIHEE 837.5, HI US\n",
       "total_measurements                   2772\n",
       "Name: 0, dtype: object"
      ]
     },
     "execution_count": 189,
     "metadata": {},
     "output_type": "execute_result"
    }
   ],
   "source": [
    "#Find the station with the highest total number of observations\n",
    "max_station = tobs_df.loc[0,:]\n",
    "max_station"
   ]
  },
  {
   "cell_type": "code",
   "execution_count": 203,
   "metadata": {},
   "outputs": [
    {
     "data": {
      "text/html": [
       "<div>\n",
       "<style>\n",
       "    .dataframe thead tr:only-child th {\n",
       "        text-align: right;\n",
       "    }\n",
       "\n",
       "    .dataframe thead th {\n",
       "        text-align: left;\n",
       "    }\n",
       "\n",
       "    .dataframe tbody tr th {\n",
       "        vertical-align: top;\n",
       "    }\n",
       "</style>\n",
       "<table border=\"1\" class=\"dataframe\">\n",
       "  <thead>\n",
       "    <tr style=\"text-align: right;\">\n",
       "      <th></th>\n",
       "      <th>name</th>\n",
       "      <th>total_measurements</th>\n",
       "    </tr>\n",
       "  </thead>\n",
       "  <tbody>\n",
       "    <tr>\n",
       "      <th>0</th>\n",
       "      <td>WAIKIKI 717.2, HI US</td>\n",
       "      <td>358</td>\n",
       "    </tr>\n",
       "    <tr>\n",
       "      <th>1</th>\n",
       "      <td>WAIHEE 837.5, HI US</td>\n",
       "      <td>351</td>\n",
       "    </tr>\n",
       "    <tr>\n",
       "      <th>2</th>\n",
       "      <td>KANEOHE 838.1, HI US</td>\n",
       "      <td>342</td>\n",
       "    </tr>\n",
       "    <tr>\n",
       "      <th>3</th>\n",
       "      <td>MANOA LYON ARBO 785.2, HI US</td>\n",
       "      <td>327</td>\n",
       "    </tr>\n",
       "    <tr>\n",
       "      <th>4</th>\n",
       "      <td>WAIMANALO EXPERIMENTAL FARM, HI US</td>\n",
       "      <td>313</td>\n",
       "    </tr>\n",
       "    <tr>\n",
       "      <th>5</th>\n",
       "      <td>KUALOA RANCH HEADQUARTERS 886.9, HI US</td>\n",
       "      <td>264</td>\n",
       "    </tr>\n",
       "    <tr>\n",
       "      <th>6</th>\n",
       "      <td>PEARL CITY, HI US</td>\n",
       "      <td>60</td>\n",
       "    </tr>\n",
       "  </tbody>\n",
       "</table>\n",
       "</div>"
      ],
      "text/plain": [
       "                                     name  total_measurements\n",
       "0                    WAIKIKI 717.2, HI US                 358\n",
       "1                     WAIHEE 837.5, HI US                 351\n",
       "2                    KANEOHE 838.1, HI US                 342\n",
       "3            MANOA LYON ARBO 785.2, HI US                 327\n",
       "4      WAIMANALO EXPERIMENTAL FARM, HI US                 313\n",
       "5  KUALOA RANCH HEADQUARTERS 886.9, HI US                 264\n",
       "6                       PEARL CITY, HI US                  60"
      ]
     },
     "execution_count": 203,
     "metadata": {},
     "output_type": "execute_result"
    }
   ],
   "source": [
    "stat_date = session.execute(\"SELECT clean_hawaii_stations.name,COUNT(clean_hawaii_measurements.station) AS total_measurements FROM clean_hawaii_measurements INNER JOIN clean_hawaii_stations ON clean_hawaii_measurements.station = clean_hawaii_stations.station WHERE clean_hawaii_measurements.date >= '2016-08-24' and clean_hawaii_measurements.date <= '2017-08-23' GROUP BY clean_hawaii_stations.name ORDER BY total_measurements DESC\")\n",
    "\n",
    "tobs_date_df = pd.DataFrame(stat_date.fetchall())\n",
    "tobs_date_df.columns = stat_date.keys()\n",
    "tobs_date_df"
   ]
  },
  {
   "cell_type": "code",
   "execution_count": 285,
   "metadata": {},
   "outputs": [
    {
     "name": "stdout",
     "output_type": "stream",
     "text": [
      "index    25%   50%   75%  count   max       mean   min       std\n",
      "0       0.00   0.0   0.0   68.0   0.0   0.000000   0.0  0.000000\n",
      "1       0.00   0.0   0.0    0.0   0.0  70.279412   0.0  0.000000\n",
      "2       0.00   0.0   0.0    0.0   0.0   0.000000   0.0  5.435773\n",
      "3       0.00   0.0   0.0    0.0   0.0   0.000000  59.0  0.000000\n",
      "4      66.75   0.0   0.0    0.0   0.0   0.000000   0.0  0.000000\n",
      "5       0.00  70.5   0.0    0.0   0.0   0.000000   0.0  0.000000\n",
      "6       0.00   0.0  75.0    0.0   0.0   0.000000   0.0  0.000000\n",
      "7       0.00   0.0   0.0    0.0  80.0   0.000000   0.0  0.000000\n",
      "Average temperature during 2017-02-05 to 2017-02-15 was 70.28, \n",
      "with a minimum temperature of 59.0, \n",
      "and a maximum temperature of 80.0.\n"
     ]
    }
   ],
   "source": [
    "#start_date = '2017-02-05'\n",
    "#end_date = '2017-02-15'\n",
    "def calc_temps (start_date, end_date):\n",
    "    stat_meas = session.execute(\"SELECT clean_hawaii_stations.name,clean_hawaii_measurements.date,clean_hawaii_measurements.tobs FROM \\\n",
    "    clean_hawaii_measurements INNER JOIN clean_hawaii_stations ON clean_hawaii_measurements.station = clean_hawaii_stations.station WHERE clean_hawaii_measurements.date >= '\" + start_date + \"' and clean_hawaii_measurements.date <= '\" + end_date + \"'\")\n",
    "\n",
    "    stat_tobs_df = pd.DataFrame(stat_meas.fetchall())\n",
    "    stat_tobs_df.columns = stat_meas.keys()\n",
    "    desc_stat_df = stat_tobs_df.describe().reset_index()\n",
    "    prt_stat_df = desc_stat_df.pivot(columns = 'index', values = 'tobs').fillna(0)\n",
    "    mean = prt_stat_df['mean'].sum()\n",
    "    prt_mean = format(mean, '.2f')\n",
    "    min_temp = prt_stat_df['min'].sum()\n",
    "    max_temp = prt_stat_df['max'].sum()\n",
    "    print(prt_stat_df)\n",
    "    print(\"Average temperature during \" + start_date + \" to \" + end_date + \" was \" + str(prt_mean) + \", \\n\" \n",
    "          \"with a minimum temperature of \" + str(min_temp) + \", \\n\" \n",
    "          \"and a maximum temperature of \" + str(max_temp) + \".\")\n",
    "    return prt_stat_df\n",
    "                                \n",
    "prt_stat_df = calc_temps('2017-02-05','2017-02-15')                        "
   ]
  },
  {
   "cell_type": "code",
   "execution_count": 278,
   "metadata": {},
   "outputs": [
    {
     "data": {
      "image/png": "[encoded data removed]",
      "text/plain": [
       "<matplotlib.figure.Figure at 0x214e94121d0>"
      ]
     },
     "metadata": {},
     "output_type": "display_data"
    },
    {
     "data": {
      "image/png": "[encoded data removed]",
      "text/plain": [
       "<matplotlib.figure.Figure at 0x214e9497f28>"
      ]
     },
     "metadata": {},
     "output_type": "display_data"
    }
   ],
   "source": [
    "stat_plot = prt_stat_df.plot(kind='bar',sort_columns = True,use_index = True, figsize=(12,12))\n",
    "plt.show()"
   ]
  },
  {
   "cell_type": "code",
   "execution_count": 226,
   "metadata": {},
   "outputs": [
    {
     "data": {
      "text/html": [
       "<div>\n",
       "<style>\n",
       "    .dataframe thead tr:only-child th {\n",
       "        text-align: right;\n",
       "    }\n",
       "\n",
       "    .dataframe thead th {\n",
       "        text-align: left;\n",
       "    }\n",
       "\n",
       "    .dataframe tbody tr th {\n",
       "        vertical-align: top;\n",
       "    }\n",
       "</style>\n",
       "<table border=\"1\" class=\"dataframe\">\n",
       "  <thead>\n",
       "    <tr style=\"text-align: right;\">\n",
       "      <th></th>\n",
       "      <th>index</th>\n",
       "      <th>tobs</th>\n",
       "    </tr>\n",
       "  </thead>\n",
       "  <tbody>\n",
       "    <tr>\n",
       "      <th>0</th>\n",
       "      <td>count</td>\n",
       "      <td>2015.000000</td>\n",
       "    </tr>\n",
       "    <tr>\n",
       "      <th>1</th>\n",
       "      <td>mean</td>\n",
       "      <td>74.484367</td>\n",
       "    </tr>\n",
       "    <tr>\n",
       "      <th>2</th>\n",
       "      <td>std</td>\n",
       "      <td>4.629750</td>\n",
       "    </tr>\n",
       "    <tr>\n",
       "      <th>3</th>\n",
       "      <td>min</td>\n",
       "      <td>58.000000</td>\n",
       "    </tr>\n",
       "    <tr>\n",
       "      <th>4</th>\n",
       "      <td>25%</td>\n",
       "      <td>71.000000</td>\n",
       "    </tr>\n",
       "    <tr>\n",
       "      <th>5</th>\n",
       "      <td>50%</td>\n",
       "      <td>75.000000</td>\n",
       "    </tr>\n",
       "    <tr>\n",
       "      <th>6</th>\n",
       "      <td>75%</td>\n",
       "      <td>78.000000</td>\n",
       "    </tr>\n",
       "    <tr>\n",
       "      <th>7</th>\n",
       "      <td>max</td>\n",
       "      <td>87.000000</td>\n",
       "    </tr>\n",
       "  </tbody>\n",
       "</table>\n",
       "</div>"
      ],
      "text/plain": [
       "   index         tobs\n",
       "0  count  2015.000000\n",
       "1   mean    74.484367\n",
       "2    std     4.629750\n",
       "3    min    58.000000\n",
       "4    25%    71.000000\n",
       "5    50%    75.000000\n",
       "6    75%    78.000000\n",
       "7    max    87.000000"
      ]
     },
     "execution_count": 226,
     "metadata": {},
     "output_type": "execute_result"
    }
   ],
   "source": [
    "desc_stat_df\n"
   ]
  },
  {
   "cell_type": "code",
   "execution_count": 205,
   "metadata": {},
   "outputs": [
    {
     "data": {
      "image/png": "[encoded data removed]",
      "text/plain": [
       "<matplotlib.figure.Figure at 0x214e6d9a860>"
      ]
     },
     "metadata": {},
     "output_type": "display_data"
    }
   ],
   "source": [
    "\n",
    "tos_hist = tobs_date_df.plot.hist(bins=12)\n",
    "tos_hist.set_xlabel(\"Number of Observations\")\n",
    "tos_hist.set_ylabel(\"Number of Stations\")\n",
    "\n",
    "\n",
    "plt.show()\n"
   ]
  },
  {
   "cell_type": "code",
   "execution_count": null,
   "metadata": {
    "collapsed": true
   },
   "outputs": [],
   "source": []
  }
 ],
 "metadata": {
  "kernelspec": {
   "display_name": "Python [conda env:PythonData]",
   "language": "python",
   "name": "conda-env-PythonData-py"
  },
  "language_info": {
   "codemirror_mode": {
    "name": "ipython",
    "version": 3
   },
   "file_extension": ".py",
   "mimetype": "text/x-python",
   "name": "python",
   "nbconvert_exporter": "python",
   "pygments_lexer": "ipython3",
   "version": "3.6.3"
  }
 },
 "nbformat": 4,
 "nbformat_minor": 2
}
